{
 "cells": [
  {
   "cell_type": "markdown",
   "metadata": {},
   "source": [
    "# Light field voxels\n",
    "\n",
    "This notebook investigates properties of light field voxels and the voxel-matrix representation.  We do this by raytracing simple 2D scenes.\n",
    "\n",
    "## Requirements\n",
    "\n",
    "This notebook only requires the normal `pylab` distribution -- `matplotlib` and `numpy`, probably.\n",
    "\n",
    "## Methods\n",
    "\n",
    "We imaged a 2D scene with several occluding circles from all angles, using Dirac $\\delta$ basis functions for the angles.  We used one of two representations for the light field:\n",
    "\n",
    "1. Two-plane parameterization, used by `Voxel.compute()`\n",
    "\n",
    "2. Spatial-angular (parallel-beam) parameterization, used by `Voxel.compute_parallel()`\n",
    "\n",
    "We represented the light field as a matrix: each row was a different image captured in either the two plane (pinhole) or parallel-beam parameterization.\n",
    "\n",
    "We looked at the singular value decomposition of the light field in each case, and at the SVD of several permuted versions of the light field.\n",
    "\n",
    "## Results\n",
    "\n",
    "We saw better concentration of the light field spectra using the parallel-beam setup, especially when using an adaptive shift for every column.  My guess is this is because the parallel-beam parameterization is depth-invariant -- each image is essentially focussed at infinity.\n",
    "\n",
    "The disadvantage of the parallel-beam parameterization is its relative inefficiency."
   ]
  },
  {
   "cell_type": "code",
   "execution_count": null,
   "metadata": {
    "collapsed": false
   },
   "outputs": [],
   "source": [
    "%pylab inline"
   ]
  },
  {
   "cell_type": "code",
   "execution_count": null,
   "metadata": {
    "collapsed": false
   },
   "outputs": [],
   "source": [
    "class Voxel(object):\n",
    "    def __init__(self, x0, x1, y0, y1, num_disc):\n",
    "        self.x0 = x0\n",
    "        self.y0 = y0\n",
    "        self.x1 = x1\n",
    "        self.y1 = y1\n",
    "        self.num_disc = num_disc\n",
    "        \n",
    "    @property\n",
    "    def north_points(self):\n",
    "        x_points = linspace(self.x0, self.x1, self.num_disc+2).tolist()[1:-1]\n",
    "        y_points = [self.y1,] * self.num_disc\n",
    "        return (x_points, y_points)\n",
    "    \n",
    "    @property\n",
    "    def south_points(self):\n",
    "        x_points = linspace(self.x1, self.x0, self.num_disc+2).tolist()[1:-1]\n",
    "        y_points = [self.y0,] * self.num_disc\n",
    "        return (x_points, y_points)\n",
    "    \n",
    "    @property\n",
    "    def east_points(self):\n",
    "        x_points = [self.x1,] * self.num_disc\n",
    "        y_points = linspace(self.y1, self.y0, self.num_disc+2).tolist()[1:-1]\n",
    "        return (x_points, y_points)\n",
    "    \n",
    "    @property\n",
    "    def west_points(self):\n",
    "        x_points = [self.x0,] * self.num_disc\n",
    "        y_points = linspace(self.y0, self.y1, self.num_disc+2).tolist()[1:-1]\n",
    "        return (x_points, y_points)\n",
    "    \n",
    "    @property\n",
    "    def points(self):\n",
    "        x_points = []\n",
    "        y_points = []\n",
    "        for (xp, yp) in (self.north_points, self.east_points, self.south_points, self.west_points):\n",
    "            x_points += xp\n",
    "            y_points += yp\n",
    "        return (x_points, y_points)\n",
    "        \n",
    "    def draw(self, ax):\n",
    "        # draw border\n",
    "        ax.plot((self.x0, self.x1, self.x1, self.x0, self.x0),\n",
    "                (self.y0, self.y0, self.y1, self.y1, self.y0),\n",
    "                color='black',\n",
    "                linewidth=2)\n",
    "        \n",
    "        # draw spatial interior\n",
    "        xm = (self.x0 + self.x1)/2.0\n",
    "        ym = (self.y0 + self.y1)/2.0\n",
    "        ax.plot((xm, self.x1, xm, self.x0, xm),\n",
    "                (self.y0, ym, self.y1, ym, self.y0),\n",
    "                color='blue',\n",
    "                linestyle='--')\n",
    "        \n",
    "        # draw points\n",
    "        x_points, y_points = self.points\n",
    "        ax.scatter(x_points, y_points, color='black')\n",
    "        \n",
    "    def compute(self, objects, transparent=False):\n",
    "        import itertools\n",
    "        import collections\n",
    "        \n",
    "        x_points, y_points = self.points\n",
    "        num_points = len(x_points)\n",
    "        tr = zeros((num_points, num_points))\n",
    "        for (j, (xj, yj)) in enumerate(zip(x_points, y_points)):\n",
    "            column_points = collections.deque(zip(x_points, y_points))\n",
    "            #column_points.rotate(-j)\n",
    "            for (i, (xi, yi)) in enumerate(column_points):\n",
    "                dist = inf\n",
    "                value = 0\n",
    "                for obj in objects:\n",
    "                    di, vi = obj.cast(xj, yj, xi, yi, transparent)\n",
    "                    if di < dist or transparent:\n",
    "                        if not transparent:\n",
    "                            value = vi\n",
    "                        else:\n",
    "                            value += vi\n",
    "                        dist = di\n",
    "                tr[i,j] = value\n",
    "        return tr\n",
    "    \n",
    "    def compute_parallel(self, objects, transparent=False):\n",
    "        import itertools\n",
    "        import collections\n",
    "        \n",
    "        x_points, y_points = self.points\n",
    "        num_points = len(x_points)\n",
    "        tr = zeros((num_points, num_points))\n",
    "        for (j, (xj, yj)) in enumerate(zip(x_points, y_points)):\n",
    "            column_points = collections.deque(zip(x_points, y_points))\n",
    "            column_points.rotate(-j)\n",
    "            for (i, (xi, yi)) in enumerate(column_points):\n",
    "                dist = inf\n",
    "                value = 0\n",
    "                for obj in objects:\n",
    "                    di, vi = obj.cast(xj, yj, xj + 20*xi, xj + 20*yi, transparent)\n",
    "                    if di < dist or transparent:\n",
    "                        if not transparent:\n",
    "                            value = vi\n",
    "                        else:\n",
    "                            value += vi\n",
    "                        dist = di\n",
    "                tr[i,j] = value\n",
    "        return tr\n",
    "    \n",
    "    def permute(self, L):\n",
    "        # permute north block\n",
    "        M = 1*L\n",
    "        M[:, 0:self.num_disc]\n",
    "    \n",
    "    def unpermute(self, M):\n",
    "        pass"
   ]
  },
  {
   "cell_type": "code",
   "execution_count": null,
   "metadata": {
    "collapsed": false
   },
   "outputs": [],
   "source": [
    "class Circle(object):\n",
    "    def __init__(self, x, y, radius, value = 1.0, texture_frequency=1):\n",
    "        self.x = x\n",
    "        self.y = y\n",
    "        self.radius = radius\n",
    "        self.value = value\n",
    "        self.texture_frequency = texture_frequency\n",
    "        \n",
    "    def cast(self, xs, ys, xd, yd, transparent):\n",
    "        xc = self.x\n",
    "        yc = self.y\n",
    "        \n",
    "        a = (xd - xs)**2 + (yd - ys)**2\n",
    "        b = 2*((xd - xs)*(xs - xc) + (yd - ys)*(ys - yc))\n",
    "        c = (xs - xc)**2 + (ys - yc)**2 - self.radius**2\n",
    "        \n",
    "        try:\n",
    "            t0 = (-b + (b**2 - 4*a*c)**.5)/(2*a)\n",
    "            t1 = (-b - (b**2 - 4*a*c)**.5)/(2*a)\n",
    "        except ValueError:\n",
    "            # no intersection\n",
    "            return (inf, 0)\n",
    "        except ZeroDivisionError:\n",
    "            # source = dest\n",
    "            return (inf, 0)\n",
    "        \n",
    "        t0m = min(t0, t1)\n",
    "        t0M = max(t0, t1)\n",
    "        if t0M < 0 or t0m > 1:\n",
    "            return (inf, 0)\n",
    "        \n",
    "        if transparent:\n",
    "            return min(t0, t1), self.value * abs(t1 - t0) * a**.5\n",
    "        else:\n",
    "            hit_t = min(t0, t1)\n",
    "            xh = xs + hit_t*(xd - xs) - xc\n",
    "            yh = ys + hit_t*(yd - ys) - yc\n",
    "            omega = arctan2(yh, xh)\n",
    "            \n",
    "            return hit_t, self.value * cos(omega*self.texture_frequency)**2\n",
    "    \n",
    "    def draw(self, ax):\n",
    "        theta = linspace(0,2*pi,128)\n",
    "        ax.plot(self.x + cos(theta)*self.radius,\n",
    "                self.y + sin(theta)*self.radius)"
   ]
  },
  {
   "cell_type": "code",
   "execution_count": null,
   "metadata": {
    "collapsed": false
   },
   "outputs": [],
   "source": [
    "v = Voxel(-1, 1, -1, 1, 50)\n",
    "c = Circle(0, .5, .25)\n",
    "c2 = Circle(.5, 0, .25, value=2)\n",
    "c3 = Circle(0,0, .1, value=3)\n",
    "c4 = Circle(-.25, -.25, .2, value=4)\n",
    "\n",
    "v.draw(gca())\n",
    "c.draw(gca())\n",
    "c2.draw(gca())\n",
    "c3.draw(gca())\n",
    "c4.draw(gca())\n",
    "\n",
    "axis('square')\n",
    "axis([-2, 2, -2, 2])"
   ]
  },
  {
   "cell_type": "code",
   "execution_count": null,
   "metadata": {
    "collapsed": false
   },
   "outputs": [],
   "source": [
    "figsize(6,6)\n",
    "L = v.compute_parallel([c, c2, c3, c4], transparent=True)\n",
    "imshow(L, interpolation='none')\n",
    "figsize(6,4)"
   ]
  },
  {
   "cell_type": "code",
   "execution_count": null,
   "metadata": {
    "collapsed": false
   },
   "outputs": [],
   "source": [
    "U, s, Vt = svd(L)\n",
    "plot(s)\n",
    "\n",
    "if False:\n",
    "    figure()\n",
    "    s[15:] = 0\n",
    "    Lhat = U.dot(diag(s).dot(Vt))\n",
    "    imshow(Lhat, interpolation='none')"
   ]
  },
  {
   "cell_type": "code",
   "execution_count": null,
   "metadata": {
    "collapsed": true
   },
   "outputs": [],
   "source": [
    "def circ_permute(L):\n",
    "    L = 1*L\n",
    "    N, _ = L.shape\n",
    "    for j in xrange(N):\n",
    "        L[:,j] = roll(L[:,j], -j)\n",
    "    return L"
   ]
  },
  {
   "cell_type": "code",
   "execution_count": null,
   "metadata": {
    "collapsed": true
   },
   "outputs": [],
   "source": [
    "def opt_permute(L):\n",
    "    L = 1*L\n",
    "    N, _ = L.shape\n",
    "    shifts = [0]\n",
    "    for j in xrange(1,N):\n",
    "        opt_err = inf\n",
    "        opt_shift = 0\n",
    "        for i in xrange(N):\n",
    "            q = roll(L[:,j], i)\n",
    "            err = ((q - L[:,j-1])**2).sum()\n",
    "            if err < opt_err:\n",
    "                opt_err = err\n",
    "                opt_shift = i\n",
    "        L[:,j] = roll(L[:,j], opt_shift)\n",
    "        shifts.append(opt_shift)\n",
    "    return (shifts, L)"
   ]
  },
  {
   "cell_type": "code",
   "execution_count": null,
   "metadata": {
    "collapsed": false
   },
   "outputs": [],
   "source": [
    "so, Lo = opt_permute(L)\n",
    "Lc = circ_permute(L)\n",
    "Lo = Lo\n",
    "imshow(Lo, interpolation='none')"
   ]
  },
  {
   "cell_type": "code",
   "execution_count": null,
   "metadata": {
    "collapsed": false
   },
   "outputs": [],
   "source": [
    "U, so, Vt = svd(L)\n",
    "plot(so)\n",
    "plot(s)\n",
    "\n",
    "figure()\n",
    "so[11:] = 0\n",
    "Loh = U.dot(diag(so).dot(Vt))\n",
    "imshow(Loh)"
   ]
  },
  {
   "cell_type": "code",
   "execution_count": null,
   "metadata": {
    "collapsed": true
   },
   "outputs": [],
   "source": []
  }
 ],
 "metadata": {
  "kernelspec": {
   "display_name": "Python 2",
   "language": "python",
   "name": "python2"
  },
  "language_info": {
   "codemirror_mode": {
    "name": "ipython",
    "version": 2
   },
   "file_extension": ".py",
   "mimetype": "text/x-python",
   "name": "python",
   "nbconvert_exporter": "python",
   "pygments_lexer": "ipython2",
   "version": "2.7.10"
  }
 },
 "nbformat": 4,
 "nbformat_minor": 0
}
